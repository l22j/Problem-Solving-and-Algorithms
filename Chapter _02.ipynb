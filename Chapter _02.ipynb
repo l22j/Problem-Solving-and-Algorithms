{
 "cells": [
  {
   "cell_type": "markdown",
   "id": "11e0ecd4",
   "metadata": {},
   "source": [
    "# Chapter 02"
   ]
  },
  {
   "cell_type": "markdown",
   "id": "aab37607",
   "metadata": {},
   "source": [
    "변수의 개념을 이해하며, Input 함수에 대해 배운다."
   ]
  },
  {
   "cell_type": "markdown",
   "id": "0068d186",
   "metadata": {},
   "source": [
    " "
   ]
  },
  {
   "cell_type": "markdown",
   "id": "55298a93",
   "metadata": {},
   "source": [
    " ---"
   ]
  },
  {
   "cell_type": "markdown",
   "id": "47d0dccf",
   "metadata": {},
   "source": [
    "## 변수의 개념\n",
    "\n",
    "### 변수란?\n",
    "- 변수는 값을 저장하는 메모리 공간\n",
    "- 쉽게 말하면 무엇을 담는 그릇이라 생각할 수 있음.\n",
    "- 변수의 이름은 자기 마음대로 지어도 됨.<br><br>\n",
    "\n",
    "#### print(100 + 200)을 입력하면 300이 출력된다. 하지만 100+200에 해당하는 코드는 한번 사용되고 없어짐\n",
    "--- > 100과 200을 저장하기 위해 그릇(변수)가 필요함.<br>\n",
    "--- > 100은 a그릇에, 200은 b그릇에 넣으면 됨.<br>\n",
    "<br>\n",
    "![image-4.png](https://raw.githubusercontent.com/l22j/image/main/%EB%AC%B8%EC%A0%9C%ED%95%B4%EA%B2%B0%EA%B3%BC%EC%95%8C%EA%B3%A0%EB%A6%AC%EC%A6%98/2/1.png)\n",
    "<br><br>"
   ]
  },
  {
   "cell_type": "markdown",
   "id": "ae9badfe",
   "metadata": {},
   "source": [
    "- 이와 같이 그릇(변수) a, b를 만들어 100과 200을 대입하여 선언한 것.\n",
    "- 기호 =는 오른쪽의 것을 왼쪽에 넣으라는 의미, 대입연산자라고 부름\n",
    "\n",
    "![image-3.png](https://raw.githubusercontent.com/l22j/image/main/%EB%AC%B8%EC%A0%9C%ED%95%B4%EA%B2%B0%EA%B3%BC%EC%95%8C%EA%B3%A0%EB%A6%AC%EC%A6%98/2/2.png)"
   ]
  },
  {
   "cell_type": "markdown",
   "id": "ea80aeb7",
   "metadata": {},
   "source": [
    " "
   ]
  },
  {
   "cell_type": "markdown",
   "id": "c0839c18",
   "metadata": {},
   "source": [
    " "
   ]
  },
  {
   "cell_type": "markdown",
   "id": "d3335ec0",
   "metadata": {},
   "source": [
    " "
   ]
  },
  {
   "cell_type": "markdown",
   "id": "826452e5",
   "metadata": {},
   "source": [
    "- 이를 코드로 표현하면 아래와 같다.\n",
    "- 다만 선언만 해주었기에 출력되는 것은 없음."
   ]
  },
  {
   "cell_type": "code",
   "execution_count": 11,
   "id": "e5952eb7",
   "metadata": {},
   "outputs": [],
   "source": [
    "a = 100\n",
    "b = 200"
   ]
  },
  {
   "cell_type": "markdown",
   "id": "2d08ba5d",
   "metadata": {},
   "source": [
    " "
   ]
  },
  {
   "cell_type": "markdown",
   "id": "794ce122",
   "metadata": {},
   "source": [
    "- 변수 선언된 내용을 확인하고 싶을 땐, print()함수를 사용"
   ]
  },
  {
   "cell_type": "code",
   "execution_count": 12,
   "id": "5d4ba32d",
   "metadata": {},
   "outputs": [
    {
     "name": "stdout",
     "output_type": "stream",
     "text": [
      "100\n",
      "200\n"
     ]
    }
   ],
   "source": [
    "print(a)\n",
    "print(b)"
   ]
  },
  {
   "cell_type": "markdown",
   "id": "ecab7d64",
   "metadata": {},
   "source": [
    " "
   ]
  },
  {
   "cell_type": "markdown",
   "id": "402a4684",
   "metadata": {},
   "source": [
    " "
   ]
  },
  {
   "cell_type": "markdown",
   "id": "4eccdb68",
   "metadata": {},
   "source": [
    "### 두 그릇(변수) a, b에 들어있는 값을 더해 새로운 그릇 c에 담아보기\n",
    "![image-3.png](https://raw.githubusercontent.com/l22j/image/main/%EB%AC%B8%EC%A0%9C%ED%95%B4%EA%B2%B0%EA%B3%BC%EC%95%8C%EA%B3%A0%EB%A6%AC%EC%A6%98/2/3.png)"
   ]
  },
  {
   "cell_type": "code",
   "execution_count": 13,
   "id": "56bb1819",
   "metadata": {},
   "outputs": [],
   "source": [
    "c = a + b"
   ]
  },
  {
   "cell_type": "code",
   "execution_count": 14,
   "id": "5b6f63ed",
   "metadata": {},
   "outputs": [
    {
     "name": "stdout",
     "output_type": "stream",
     "text": [
      "300\n"
     ]
    }
   ],
   "source": [
    "print(c)"
   ]
  },
  {
   "cell_type": "code",
   "execution_count": 15,
   "id": "e96e2caf",
   "metadata": {},
   "outputs": [
    {
     "name": "stdout",
     "output_type": "stream",
     "text": [
      "100\n",
      "200\n",
      "300\n"
     ]
    }
   ],
   "source": [
    "print(a)\n",
    "print(b)\n",
    "print(c)"
   ]
  },
  {
   "cell_type": "markdown",
   "id": "00cc0376",
   "metadata": {},
   "source": [
    " "
   ]
  },
  {
   "cell_type": "markdown",
   "id": "f7b59a8e",
   "metadata": {},
   "source": [
    " "
   ]
  },
  {
   "cell_type": "markdown",
   "id": "1e1a31cc",
   "metadata": {},
   "source": [
    "## 계산식( + , = )을 포함한 전체를 출력하기"
   ]
  },
  {
   "cell_type": "markdown",
   "id": "825afe5c",
   "metadata": {},
   "source": [
    "- 변수와 문자열을 포함시켜 사용하여 a + b = c 를 출력해본다"
   ]
  },
  {
   "cell_type": "markdown",
   "id": "f301cefe",
   "metadata": {},
   "source": [
    "![image-3.png](https://raw.githubusercontent.com/l22j/image/main/%EB%AC%B8%EC%A0%9C%ED%95%B4%EA%B2%B0%EA%B3%BC%EC%95%8C%EA%B3%A0%EB%A6%AC%EC%A6%98/2/4.png)\n"
   ]
  },
  {
   "cell_type": "code",
   "execution_count": 7,
   "id": "a8a18051",
   "metadata": {},
   "outputs": [],
   "source": [
    "a = 100\n",
    "b = 200\n",
    "c = a+b"
   ]
  },
  {
   "cell_type": "code",
   "execution_count": 8,
   "id": "2ebadb41",
   "metadata": {},
   "outputs": [
    {
     "name": "stdout",
     "output_type": "stream",
     "text": [
      "100 + 200 = 300\n"
     ]
    }
   ],
   "source": [
    "print(a,\"+\",b,\"=\",c)"
   ]
  },
  {
   "cell_type": "code",
   "execution_count": 9,
   "id": "6d1c37d1",
   "metadata": {},
   "outputs": [
    {
     "name": "stdout",
     "output_type": "stream",
     "text": [
      "100 더하기 200 는 300\n"
     ]
    }
   ],
   "source": [
    "print(a,\"더하기\",b,\"는\",c)"
   ]
  },
  {
   "cell_type": "markdown",
   "id": "7419c649",
   "metadata": {},
   "source": [
    " "
   ]
  },
  {
   "cell_type": "markdown",
   "id": "95512369",
   "metadata": {},
   "source": [
    " "
   ]
  },
  {
   "cell_type": "markdown",
   "id": "b35a9ec8",
   "metadata": {},
   "source": [
    " "
   ]
  },
  {
   "cell_type": "markdown",
   "id": "ef3b93b2",
   "metadata": {},
   "source": [
    " "
   ]
  },
  {
   "cell_type": "markdown",
   "id": "61b9b5e1",
   "metadata": {},
   "source": [
    " "
   ]
  },
  {
   "cell_type": "markdown",
   "id": "dc3037de",
   "metadata": {},
   "source": [
    " "
   ]
  },
  {
   "cell_type": "markdown",
   "id": "8e78f0dc",
   "metadata": {},
   "source": [
    "  "
   ]
  },
  {
   "cell_type": "markdown",
   "id": "db993637",
   "metadata": {},
   "source": [
    "#### 변수에 문자열도 할당할 수 있음"
   ]
  },
  {
   "cell_type": "code",
   "execution_count": 1,
   "id": "5f79ce15",
   "metadata": {},
   "outputs": [],
   "source": [
    "dog_name = \"단추\"\n",
    "cat_name = \"먼지\""
   ]
  },
  {
   "cell_type": "code",
   "execution_count": 2,
   "id": "a05568ed",
   "metadata": {},
   "outputs": [
    {
     "name": "stdout",
     "output_type": "stream",
     "text": [
      "단추\n"
     ]
    }
   ],
   "source": [
    "print(dog_name)"
   ]
  },
  {
   "cell_type": "code",
   "execution_count": 3,
   "id": "b57053e4",
   "metadata": {},
   "outputs": [
    {
     "name": "stdout",
     "output_type": "stream",
     "text": [
      "먼지\n"
     ]
    }
   ],
   "source": [
    "print(cat_name)"
   ]
  },
  {
   "cell_type": "markdown",
   "id": "33fef5c4",
   "metadata": {},
   "source": [
    " "
   ]
  },
  {
   "cell_type": "markdown",
   "id": "7ff89c48",
   "metadata": {},
   "source": [
    " "
   ]
  },
  {
   "cell_type": "markdown",
   "id": "13e622c9",
   "metadata": {},
   "source": [
    " "
   ]
  },
  {
   "cell_type": "markdown",
   "id": "fccf585b",
   "metadata": {},
   "source": [
    " "
   ]
  },
  {
   "cell_type": "markdown",
   "id": "af1a258e",
   "metadata": {},
   "source": [
    " ---"
   ]
  },
  {
   "cell_type": "markdown",
   "id": "1bdf6c43",
   "metadata": {},
   "source": [
    " "
   ]
  },
  {
   "cell_type": "markdown",
   "id": "4df674e9",
   "metadata": {},
   "source": [
    " "
   ]
  },
  {
   "cell_type": "markdown",
   "id": "9864b285",
   "metadata": {},
   "source": [
    "## 변수의 선언과 값의 대입\n",
    "변수를 대입할 때 주의해야할 점을 살펴본다"
   ]
  },
  {
   "cell_type": "markdown",
   "id": "455bb65d",
   "metadata": {},
   "source": [
    " "
   ]
  },
  {
   "cell_type": "markdown",
   "id": "95931306",
   "metadata": {},
   "source": [
    "- 대입 연산자인 =이 나오면 무조건 = 의 오른쪽 부분이 모두 계산된 후에 왼쪽으로 대입됨\n",
    "- 이러한 방식이 정상적인 대입 연산자의 구조이다.\n",
    "- 따라서 모든 코드에서 = 의 왼쪽에는 변수가 있어야 함\n",
    "\n",
    "![image-3.png](https://raw.githubusercontent.com/l22j/image/main/%EB%AC%B8%EC%A0%9C%ED%95%B4%EA%B2%B0%EA%B3%BC%EC%95%8C%EA%B3%A0%EB%A6%AC%EC%A6%98/2/5.png)"
   ]
  },
  {
   "cell_type": "code",
   "execution_count": 29,
   "id": "04281292",
   "metadata": {},
   "outputs": [
    {
     "name": "stdout",
     "output_type": "stream",
     "text": [
      "200\n"
     ]
    }
   ],
   "source": [
    "num1 = 100\n",
    "num2 = 50\n",
    "result = num1 + 100\n",
    "print(result)"
   ]
  },
  {
   "cell_type": "markdown",
   "id": "8fde0374",
   "metadata": {},
   "source": [
    "- = 의 오른쪽이 모두 변수일 필요는 없음\n",
    "\n",
    "![image-4.png](https://raw.githubusercontent.com/l22j/image/main/%EB%AC%B8%EC%A0%9C%ED%95%B4%EA%B2%B0%EA%B3%BC%EC%95%8C%EA%B3%A0%EB%A6%AC%EC%A6%98/2/6.png)"
   ]
  },
  {
   "cell_type": "markdown",
   "id": "368094a8",
   "metadata": {},
   "source": [
    " "
   ]
  },
  {
   "cell_type": "markdown",
   "id": "02a10500",
   "metadata": {},
   "source": [
    " "
   ]
  },
  {
   "cell_type": "markdown",
   "id": "75b20f2e",
   "metadata": {},
   "source": [
    "## 올바른 값의 대입"
   ]
  },
  {
   "cell_type": "markdown",
   "id": "520ac7f2",
   "metadata": {},
   "source": [
    "#### 변수와 변수의 연산 / 값과 값의 연산 / 변수와 값의 연산 모두 가능하다.\n",
    "- num1과 num2라는 변수를 선언해준다."
   ]
  },
  {
   "cell_type": "code",
   "execution_count": 13,
   "id": "e6e63441",
   "metadata": {},
   "outputs": [],
   "source": [
    "num1 = 100\n",
    "num2 = 50\n",
    "\n",
    "result = num1 + num2 # 변수와 변수의 연산\n",
    "result2 = num1 + 50 #  변수와 값의 연산\n",
    "result3 = 100 + 50 # 값과 값의 연산"
   ]
  },
  {
   "cell_type": "markdown",
   "id": "9ac98c12",
   "metadata": {},
   "source": [
    "- result, result2, result3을 출력해본다.\n",
    "- 결과는 모두 같음을 알 수 있다."
   ]
  },
  {
   "cell_type": "code",
   "execution_count": 14,
   "id": "51b89cf5",
   "metadata": {},
   "outputs": [
    {
     "name": "stdout",
     "output_type": "stream",
     "text": [
      "150\n",
      "150\n",
      "150\n"
     ]
    }
   ],
   "source": [
    "print(result)\n",
    "print(result2)\n",
    "print(result3)"
   ]
  },
  {
   "cell_type": "markdown",
   "id": "e0d772b5",
   "metadata": {},
   "source": [
    " "
   ]
  },
  {
   "cell_type": "markdown",
   "id": "5b4a8398",
   "metadata": {},
   "source": [
    " "
   ]
  },
  {
   "cell_type": "markdown",
   "id": "ae9df5db",
   "metadata": {},
   "source": [
    "## 잘못된 값의 대입\n",
    "- 대입 연산자 = 의 왼쪽이 변수가 아니라면 오류가 발생한다.\n",
    "- 할당할 수 없다는 오류가 뜬다."
   ]
  },
  {
   "cell_type": "code",
   "execution_count": 15,
   "id": "df830d20",
   "metadata": {},
   "outputs": [
    {
     "ename": "SyntaxError",
     "evalue": "cannot assign to literal (2971251295.py, line 1)",
     "output_type": "error",
     "traceback": [
      "\u001b[0;36m  Input \u001b[0;32mIn [15]\u001b[0;36m\u001b[0m\n\u001b[0;31m    100 = num1 + num2\u001b[0m\n\u001b[0m    ^\u001b[0m\n\u001b[0;31mSyntaxError\u001b[0m\u001b[0;31m:\u001b[0m cannot assign to literal\n"
     ]
    }
   ],
   "source": [
    "100 = num1 + num2"
   ]
  },
  {
   "cell_type": "markdown",
   "id": "a494fd12",
   "metadata": {},
   "source": [
    "![image.png](https://raw.githubusercontent.com/l22j/image/main/%EB%AC%B8%EC%A0%9C%ED%95%B4%EA%B2%B0%EA%B3%BC%EC%95%8C%EA%B3%A0%EB%A6%AC%EC%A6%98/2/7.png)"
   ]
  },
  {
   "cell_type": "markdown",
   "id": "74a5edc1",
   "metadata": {},
   "source": [
    "- 또, 대입 연산자 =의 왼쪽에는 변수가 한개만 존재해야 된다."
   ]
  },
  {
   "cell_type": "code",
   "execution_count": 16,
   "id": "518f8385",
   "metadata": {},
   "outputs": [
    {
     "ename": "SyntaxError",
     "evalue": "cannot assign to operator (127935677.py, line 1)",
     "output_type": "error",
     "traceback": [
      "\u001b[0;36m  Input \u001b[0;32mIn [16]\u001b[0;36m\u001b[0m\n\u001b[0;31m    num1 + num2 = result\u001b[0m\n\u001b[0m    ^\u001b[0m\n\u001b[0;31mSyntaxError\u001b[0m\u001b[0;31m:\u001b[0m cannot assign to operator\n"
     ]
    }
   ],
   "source": [
    "num1 + num2 = result"
   ]
  },
  {
   "cell_type": "markdown",
   "id": "1be3cae7",
   "metadata": {},
   "source": [
    "![image.png](https://raw.githubusercontent.com/l22j/image/main/%EB%AC%B8%EC%A0%9C%ED%95%B4%EA%B2%B0%EA%B3%BC%EC%95%8C%EA%B3%A0%EB%A6%AC%EC%A6%98/2/8.png)"
   ]
  },
  {
   "cell_type": "markdown",
   "id": "36cdc916",
   "metadata": {},
   "source": [
    " "
   ]
  },
  {
   "cell_type": "markdown",
   "id": "51c3922a",
   "metadata": {},
   "source": [
    " "
   ]
  },
  {
   "cell_type": "markdown",
   "id": "b8c4664d",
   "metadata": {},
   "source": [
    " "
   ]
  },
  {
   "cell_type": "markdown",
   "id": "fa63940b",
   "metadata": {},
   "source": [
    "---"
   ]
  },
  {
   "cell_type": "markdown",
   "id": "848d04fa",
   "metadata": {},
   "source": [
    " "
   ]
  },
  {
   "cell_type": "markdown",
   "id": "027a96ad",
   "metadata": {},
   "source": [
    "## 변수를 사용한 코드 출력해보기 "
   ]
  },
  {
   "cell_type": "markdown",
   "id": "486c09df",
   "metadata": {},
   "source": [
    "### 사칙연산 \n",
    "- num1 = 100, num2 = 50\n",
    "- num1과 num2를 사용하여 뺄셈 연산을 작성하며, result이라는 변수를 사용하여 결과를 넣어본다.\n",
    "- 대입연산자인 =이 나오게 되면 무조건 오른쪽에 있는 부분이 계산된 후 왼쪽의 변수에 값이 대입된다."
   ]
  },
  {
   "cell_type": "code",
   "execution_count": null,
   "id": "6988fe27",
   "metadata": {},
   "outputs": [],
   "source": [
    "+ - * /"
   ]
  },
  {
   "cell_type": "markdown",
   "id": "a424dd03",
   "metadata": {},
   "source": [
    "#### 덧셈 연산\n",
    "- 아래와 같이 변수를 선언해준 후 print()를 사용하여 출력해보기"
   ]
  },
  {
   "cell_type": "code",
   "execution_count": 23,
   "id": "014ccdba",
   "metadata": {},
   "outputs": [],
   "source": [
    "num1 = 100\n",
    "num2 = 50\n",
    "result = num1 + num2"
   ]
  },
  {
   "cell_type": "code",
   "execution_count": 24,
   "id": "fb0c0b54",
   "metadata": {},
   "outputs": [
    {
     "name": "stdout",
     "output_type": "stream",
     "text": [
      "100 + 50 = 150\n"
     ]
    }
   ],
   "source": [
    "print(num1 , \"+\" , num2 , \"=\" , result)"
   ]
  },
  {
   "cell_type": "markdown",
   "id": "fda58eff",
   "metadata": {},
   "source": [
    " "
   ]
  },
  {
   "cell_type": "markdown",
   "id": "14f106f1",
   "metadata": {},
   "source": [
    " "
   ]
  },
  {
   "cell_type": "markdown",
   "id": "5bd14481",
   "metadata": {},
   "source": [
    "#### 뺄셈 연산\n",
    "- 아래와 같이 변수를 선언해준 후 print()를 사용하여 출력해보기"
   ]
  },
  {
   "cell_type": "code",
   "execution_count": 27,
   "id": "4a891ae4",
   "metadata": {},
   "outputs": [],
   "source": [
    "num1 = 100\n",
    "num2 = 50\n",
    "result = num1 - num2"
   ]
  },
  {
   "cell_type": "code",
   "execution_count": 28,
   "id": "28833815",
   "metadata": {},
   "outputs": [
    {
     "name": "stdout",
     "output_type": "stream",
     "text": [
      "100 - 50 = 50\n"
     ]
    }
   ],
   "source": [
    "print(num1 , \"-\" , num2 , \"=\" , result)"
   ]
  },
  {
   "cell_type": "markdown",
   "id": "c8fe1d81",
   "metadata": {},
   "source": [
    " "
   ]
  },
  {
   "cell_type": "markdown",
   "id": "3531c060",
   "metadata": {},
   "source": [
    " "
   ]
  },
  {
   "cell_type": "markdown",
   "id": "2f08f79f",
   "metadata": {},
   "source": [
    "#### 곱셈 연산\n",
    " - 아래와 같이 변수를 선언해준 후 print()를 사용하여 출력해보기"
   ]
  },
  {
   "cell_type": "code",
   "execution_count": 30,
   "id": "a15dee5d",
   "metadata": {},
   "outputs": [],
   "source": [
    "num1 = 100\n",
    "num2 = 50\n",
    "result = num1 * num2"
   ]
  },
  {
   "cell_type": "code",
   "execution_count": 31,
   "id": "3f195810",
   "metadata": {},
   "outputs": [
    {
     "name": "stdout",
     "output_type": "stream",
     "text": [
      "100 * 50 = 5000\n"
     ]
    }
   ],
   "source": [
    "print(num1 , \"*\" , num2 , \"=\" , result)"
   ]
  },
  {
   "cell_type": "markdown",
   "id": "a576fe80",
   "metadata": {},
   "source": [
    " "
   ]
  },
  {
   "cell_type": "markdown",
   "id": "07596d22",
   "metadata": {},
   "source": [
    " "
   ]
  },
  {
   "cell_type": "markdown",
   "id": "14f20967",
   "metadata": {},
   "source": [
    "#### 나눗셈 연산\n",
    " - 아래와 같이 변수를 선언해준 후 print()를 사용하여 출력해보기"
   ]
  },
  {
   "cell_type": "code",
   "execution_count": 33,
   "id": "0eb80c23",
   "metadata": {},
   "outputs": [],
   "source": [
    "num1 = 100\n",
    "num2 = 50\n",
    "result = num1 / num2"
   ]
  },
  {
   "cell_type": "code",
   "execution_count": 34,
   "id": "483e2ee8",
   "metadata": {},
   "outputs": [
    {
     "name": "stdout",
     "output_type": "stream",
     "text": [
      "100 / 50 = 2.0\n"
     ]
    }
   ],
   "source": [
    "print(num1 , \"/\" , num2 , \"=\" , result)"
   ]
  },
  {
   "cell_type": "markdown",
   "id": "951a3cc6",
   "metadata": {},
   "source": [
    " "
   ]
  },
  {
   "cell_type": "markdown",
   "id": "c71afe2c",
   "metadata": {},
   "source": [
    " "
   ]
  },
  {
   "cell_type": "markdown",
   "id": "5008fc0e",
   "metadata": {},
   "source": [
    " "
   ]
  },
  {
   "cell_type": "markdown",
   "id": "850bb403",
   "metadata": {},
   "source": [
    "### 문자열을 대입한 변수 사용\n",
    "- 숫자와 동일하게 변수를 선언하고, 큰따옴표 또는 작은따옴표로 묶은 문자열을 대입하는 방식"
   ]
  },
  {
   "cell_type": "code",
   "execution_count": 30,
   "id": "81fb0b29",
   "metadata": {},
   "outputs": [],
   "source": [
    "str1 = \"난생처음\"\n",
    "str2 = \"파이썬\""
   ]
  },
  {
   "cell_type": "markdown",
   "id": "6c066243",
   "metadata": {},
   "source": [
    "![image.png](https://raw.githubusercontent.com/l22j/image/main/%EB%AC%B8%EC%A0%9C%ED%95%B4%EA%B2%B0%EA%B3%BC%EC%95%8C%EA%B3%A0%EB%A6%AC%EC%A6%98/2/9.png)"
   ]
  },
  {
   "cell_type": "markdown",
   "id": "d35ab948",
   "metadata": {},
   "source": [
    "- print()를 사용하여 변수를 출력할 때, 콤마(,)를 사용하여 분리하여 출력하면 된다.\n",
    "- 콤마(,)로 분리하면 자체적으로 한 칸 띄어쓰기가 들어간 상태로 출력이 된다. (print() 함수 기능 중 sep의 defult 값)"
   ]
  },
  {
   "cell_type": "code",
   "execution_count": 41,
   "id": "adb5ec99",
   "metadata": {},
   "outputs": [
    {
     "name": "stdout",
     "output_type": "stream",
     "text": [
      "난생처음파이썬\n"
     ]
    }
   ],
   "source": [
    "result = str1 + str2\n",
    "print(result)"
   ]
  },
  {
   "cell_type": "markdown",
   "id": "4f2d3727",
   "metadata": {},
   "source": [
    "![image-2.png](https://raw.githubusercontent.com/l22j/image/main/%EB%AC%B8%EC%A0%9C%ED%95%B4%EA%B2%B0%EA%B3%BC%EC%95%8C%EA%B3%A0%EB%A6%AC%EC%A6%98/2/10.png)"
   ]
  },
  {
   "cell_type": "markdown",
   "id": "ee4f21ac",
   "metadata": {},
   "source": [
    " "
   ]
  },
  {
   "cell_type": "markdown",
   "id": "ee1b847b",
   "metadata": {},
   "source": [
    " "
   ]
  },
  {
   "cell_type": "markdown",
   "id": "e5b1e679",
   "metadata": {},
   "source": [
    "- 문자열을 더하는 것은 문자열을 이어주라는 의미이지만, 문자열을 빼는 연산을 진행할 경우 오류가 발생한다.\n",
    "- 지원되지 않는다는 오류 메세지를 확인할 수 있다.\n",
    "- 곱셈과 나눗셈도 마찬가지로 사용할 수 없다."
   ]
  },
  {
   "cell_type": "code",
   "execution_count": 42,
   "id": "c72f3f03",
   "metadata": {},
   "outputs": [
    {
     "ename": "TypeError",
     "evalue": "unsupported operand type(s) for -: 'str' and 'str'",
     "output_type": "error",
     "traceback": [
      "\u001b[0;31m---------------------------------------------------------------------------\u001b[0m",
      "\u001b[0;31mTypeError\u001b[0m                                 Traceback (most recent call last)",
      "Input \u001b[0;32mIn [42]\u001b[0m, in \u001b[0;36m<cell line: 1>\u001b[0;34m()\u001b[0m\n\u001b[0;32m----> 1\u001b[0m result \u001b[38;5;241m=\u001b[39m \u001b[43mstr1\u001b[49m\u001b[43m \u001b[49m\u001b[38;5;241;43m-\u001b[39;49m\u001b[43m \u001b[49m\u001b[43mstr2\u001b[49m\n\u001b[1;32m      2\u001b[0m \u001b[38;5;28mprint\u001b[39m(result)\n",
      "\u001b[0;31mTypeError\u001b[0m: unsupported operand type(s) for -: 'str' and 'str'"
     ]
    }
   ],
   "source": [
    "result = str1 - str2\n",
    "print(result)"
   ]
  },
  {
   "cell_type": "code",
   "execution_count": 45,
   "id": "e2664353",
   "metadata": {},
   "outputs": [
    {
     "ename": "TypeError",
     "evalue": "can't multiply sequence by non-int of type 'str'",
     "output_type": "error",
     "traceback": [
      "\u001b[0;31m---------------------------------------------------------------------------\u001b[0m",
      "\u001b[0;31mTypeError\u001b[0m                                 Traceback (most recent call last)",
      "Input \u001b[0;32mIn [45]\u001b[0m, in \u001b[0;36m<cell line: 1>\u001b[0;34m()\u001b[0m\n\u001b[0;32m----> 1\u001b[0m result \u001b[38;5;241m=\u001b[39m \u001b[43mstr1\u001b[49m\u001b[43m \u001b[49m\u001b[38;5;241;43m*\u001b[39;49m\u001b[43m \u001b[49m\u001b[43mstr2\u001b[49m\n\u001b[1;32m      2\u001b[0m \u001b[38;5;28mprint\u001b[39m(result)\n",
      "\u001b[0;31mTypeError\u001b[0m: can't multiply sequence by non-int of type 'str'"
     ]
    }
   ],
   "source": [
    "result = str1 * str2\n",
    "print(result)"
   ]
  },
  {
   "cell_type": "markdown",
   "id": "8831555a",
   "metadata": {},
   "source": [
    " "
   ]
  },
  {
   "cell_type": "markdown",
   "id": "b6f3c986",
   "metadata": {},
   "source": [
    " "
   ]
  },
  {
   "cell_type": "markdown",
   "id": "d8504577",
   "metadata": {},
   "source": [
    " ---"
   ]
  },
  {
   "cell_type": "markdown",
   "id": "bb98dfee",
   "metadata": {},
   "source": [
    " "
   ]
  },
  {
   "cell_type": "markdown",
   "id": "ac16c9b7",
   "metadata": {},
   "source": [
    "  "
   ]
  },
  {
   "cell_type": "markdown",
   "id": "806feca9",
   "metadata": {},
   "source": [
    "## 간단한 사칙연산(더하기, 빼기, 곱하기, 나누기)이 가능한 계산기 만들어보기\n",
    "- 두 변수 num1와 num2가 주어졌을 때, 사칙연산을 계산하여 출력하도록 작성 해보시오"
   ]
  },
  {
   "cell_type": "markdown",
   "id": "806d6f2d",
   "metadata": {},
   "source": [
    "<details>\n",
    "<summary>답</summary>\n",
    "\n",
    "num1 = 100 <br>\n",
    "num2 = 100 <br>\n",
    "\n",
    "result1 = num1 + num2 <br>\n",
    "result2 = num1 - num2 <br>\n",
    "result3 = num1 * num2 <br>\n",
    "result4 = num1 / num2 <br>\n",
    "\n",
    "print(num1 , \"+\" , num2 , \"=\" , result1) <br>\n",
    "print(num1 , \"-\" , num2 , \"=\" , result2) <br>\n",
    "print(num1 , \"*\" , num2 , \"=\" , result3) <br>\n",
    "print(num1 , \"/\" , num2 , \"=\" , result4) <br><br>\n",
    "    \n",
    "</details>"
   ]
  },
  {
   "cell_type": "code",
   "execution_count": 59,
   "id": "6e59e236",
   "metadata": {},
   "outputs": [
    {
     "name": "stdout",
     "output_type": "stream",
     "text": [
      "100 + 100 = 200\n",
      "100 - 100 = 0\n",
      "100 * 100 = 10000\n",
      "100 / 100 = 1.0\n"
     ]
    }
   ],
   "source": []
  },
  {
   "cell_type": "markdown",
   "id": "6e12aeb2",
   "metadata": {},
   "source": [
    " "
   ]
  },
  {
   "cell_type": "markdown",
   "id": "12f0c386",
   "metadata": {},
   "source": [
    " "
   ]
  },
  {
   "cell_type": "markdown",
   "id": "1d78809e",
   "metadata": {},
   "source": [
    "  "
   ]
  },
  {
   "cell_type": "markdown",
   "id": "db97605d",
   "metadata": {},
   "source": [
    "## 변수 이름 짓기\n",
    "- 변수 이름은 작성자 마음이지만, 코드를 다른 사람들과 공유할때도 있고, 설명해야될 때도 있다.\n",
    "- 변수 이름을 짓기 위해 몇가지 규칙이 있음\n",
    "\n",
    "### 변수명에 대한 규칙\n",
    "\n",
    "- 변수명은 영문과 숫자를 섞어도 된다.\n",
    "- 단, 영문으로 시작해야되며, 숫자로 시작하면 안된다. 또, 숫자로만 이루어져도 안된다."
   ]
  },
  {
   "cell_type": "code",
   "execution_count": 101,
   "id": "7031834a",
   "metadata": {},
   "outputs": [
    {
     "name": "stdout",
     "output_type": "stream",
     "text": [
      "100\n",
      "200\n",
      "300\n",
      "400\n"
     ]
    }
   ],
   "source": [
    "a = 100\n",
    "abcd = 200\n",
    "abc1 = 300\n",
    "q1w2e3r4 = 400\n",
    "\n",
    "print(a)\n",
    "print(abcd)\n",
    "print(abc1)\n",
    "print(q1w2e3r4)"
   ]
  },
  {
   "cell_type": "code",
   "execution_count": 67,
   "id": "40da4b75",
   "metadata": {},
   "outputs": [
    {
     "ename": "SyntaxError",
     "evalue": "cannot assign to literal (2311792335.py, line 1)",
     "output_type": "error",
     "traceback": [
      "\u001b[0;36m  Input \u001b[0;32mIn [67]\u001b[0;36m\u001b[0m\n\u001b[0;31m    123 = 456\u001b[0m\n\u001b[0m    ^\u001b[0m\n\u001b[0;31mSyntaxError\u001b[0m\u001b[0;31m:\u001b[0m cannot assign to literal\n"
     ]
    }
   ],
   "source": [
    "# 숫자로만 이루어져 있을 경우\n",
    "123 = 456"
   ]
  },
  {
   "cell_type": "code",
   "execution_count": 68,
   "id": "282dc3c9",
   "metadata": {},
   "outputs": [
    {
     "ename": "SyntaxError",
     "evalue": "invalid syntax (190064777.py, line 1)",
     "output_type": "error",
     "traceback": [
      "\u001b[0;36m  Input \u001b[0;32mIn [68]\u001b[0;36m\u001b[0m\n\u001b[0;31m    1aaa = 123\u001b[0m\n\u001b[0m     ^\u001b[0m\n\u001b[0;31mSyntaxError\u001b[0m\u001b[0;31m:\u001b[0m invalid syntax\n"
     ]
    }
   ],
   "source": [
    "# 숫자로 시작했을 경우\n",
    "1aaa = 123"
   ]
  },
  {
   "cell_type": "code",
   "execution_count": 72,
   "id": "757bae88",
   "metadata": {},
   "outputs": [
    {
     "name": "stdout",
     "output_type": "stream",
     "text": [
      "123\n"
     ]
    }
   ],
   "source": [
    "# 한국어로 변수명을 설정해도 되지만, 능한 영어로 변수명을 지어주시는 것을 권장\n",
    "변수 = 123\n",
    "print(변수)"
   ]
  },
  {
   "cell_type": "markdown",
   "id": "6c1222f0",
   "metadata": {},
   "source": [
    " "
   ]
  },
  {
   "cell_type": "markdown",
   "id": "c5e7b0ed",
   "metadata": {},
   "source": [
    " "
   ]
  },
  {
   "cell_type": "markdown",
   "id": "b54f053d",
   "metadata": {},
   "source": [
    "### 변수명에는 언더바( _ )를 사용할 수 있다.\n",
    "- 변수의 이름으로 띄어쓰기가 허용되지 않기 때문에 변수명이 길어지면 의미 파악이 어려워짐\n",
    "- 이럴 때 띄어쓰기 대신 언더바( _ )를 사용\n",
    "- 언더바(_)는 앞, 중간, 뒤 어느 위치에 상관없이 사용할 수 있음"
   ]
  },
  {
   "cell_type": "code",
   "execution_count": 75,
   "id": "6a0d459a",
   "metadata": {},
   "outputs": [
    {
     "name": "stdout",
     "output_type": "stream",
     "text": [
      "100\n",
      "200\n",
      "300\n",
      "400\n",
      "500\n"
     ]
    }
   ],
   "source": [
    "input_number = 100\n",
    "_number = 200\n",
    "_data_ = 300\n",
    "__my__ = 400\n",
    "_1234 = 500\n",
    "\n",
    "print(input_number)\n",
    "print(_number)\n",
    "print(_data_)\n",
    "print(__my__)\n",
    "print(_1234)"
   ]
  },
  {
   "cell_type": "markdown",
   "id": "a1a418f7",
   "metadata": {},
   "source": [
    " "
   ]
  },
  {
   "cell_type": "markdown",
   "id": "78747d02",
   "metadata": {},
   "source": [
    " "
   ]
  },
  {
   "cell_type": "markdown",
   "id": "81f00c66",
   "metadata": {},
   "source": [
    "### 변수명은 대문자와 소문자를 구분함\n",
    "\n",
    "- 파이썬은 대문자와 소문자를 완전히 다른 것으로 취급함 \n",
    "- 따라서 변수명의 대문자와 소문자는 다른 변수임\n",
    "- 대문자와 소문자를 섞으면 언더바 대신에 의미를 부여하기에 좋음\n",
    "- 다음은 모두 올바르며, 서로 다른 변수임\n"
   ]
  },
  {
   "cell_type": "code",
   "execution_count": 77,
   "id": "db6465ce",
   "metadata": {},
   "outputs": [
    {
     "name": "stdout",
     "output_type": "stream",
     "text": [
      "100\n",
      "200\n",
      "300\n",
      "400\n"
     ]
    }
   ],
   "source": [
    "mynumber = 100\n",
    "MYNUMBER = 200\n",
    "Mynumber = 300\n",
    "myNumber = 400\n",
    "\n",
    "print(mynumber)\n",
    "print(MYNUMBER) \n",
    "print(Mynumber) \n",
    "print(myNumber)\n"
   ]
  },
  {
   "cell_type": "markdown",
   "id": "7340100e",
   "metadata": {},
   "source": [
    "  "
   ]
  },
  {
   "cell_type": "markdown",
   "id": "104eff08",
   "metadata": {},
   "source": [
    " "
   ]
  },
  {
   "cell_type": "markdown",
   "id": "1c474dc0",
   "metadata": {},
   "source": [
    "### 변수명에는 예약어를 사용할 수 없다\n",
    "- 예약어란, 이미 파이썬 문법에 특별한 목적을 위해 예약되어 사용되는 단어를 말한다.\n",
    "- 문법적인 기능을 수행하고 있기 때문에, 변수명으로 사용할 수 없도록 되어있다.\n",
    "- 예약어를 사용하면 오류가 발생한다"
   ]
  },
  {
   "cell_type": "code",
   "execution_count": 79,
   "id": "16666d0a",
   "metadata": {},
   "outputs": [
    {
     "ename": "SyntaxError",
     "evalue": "invalid syntax (2974327018.py, line 1)",
     "output_type": "error",
     "traceback": [
      "\u001b[0;36m  Input \u001b[0;32mIn [79]\u001b[0;36m\u001b[0m\n\u001b[0;31m    if = 100\u001b[0m\n\u001b[0m       ^\u001b[0m\n\u001b[0;31mSyntaxError\u001b[0m\u001b[0;31m:\u001b[0m invalid syntax\n"
     ]
    }
   ],
   "source": [
    "if = 100"
   ]
  },
  {
   "cell_type": "code",
   "execution_count": 99,
   "id": "d068eb79",
   "metadata": {},
   "outputs": [
    {
     "ename": "SyntaxError",
     "evalue": "invalid syntax (8730559.py, line 1)",
     "output_type": "error",
     "traceback": [
      "\u001b[0;36m  Input \u001b[0;32mIn [99]\u001b[0;36m\u001b[0m\n\u001b[0;31m    for = 200\u001b[0m\n\u001b[0m        ^\u001b[0m\n\u001b[0;31mSyntaxError\u001b[0m\u001b[0;31m:\u001b[0m invalid syntax\n"
     ]
    }
   ],
   "source": [
    "for = 200"
   ]
  },
  {
   "cell_type": "markdown",
   "id": "97d23c22",
   "metadata": {},
   "source": [
    "![image-3.png](https://raw.githubusercontent.com/l22j/image/main/%EB%AC%B8%EC%A0%9C%ED%95%B4%EA%B2%B0%EA%B3%BC%EC%95%8C%EA%B3%A0%EB%A6%AC%EC%A6%98/2/11.png)"
   ]
  },
  {
   "cell_type": "code",
   "execution_count": 98,
   "id": "d3a0a269",
   "metadata": {},
   "outputs": [
    {
     "name": "stdout",
     "output_type": "stream",
     "text": [
      "['False', 'None', 'True', 'and', 'as', 'assert', 'async', 'await', 'break', 'class', 'continue', 'def', 'del', 'elif', 'else', 'except', 'finally', 'for', 'from', 'global', 'if', 'import', 'in', 'is', 'lambda', 'nonlocal', 'not', 'or', 'pass', 'raise', 'return', 'try', 'while', 'with', 'yield']\n",
      "파이썬 예약어 수:  35\n"
     ]
    }
   ],
   "source": [
    "import keyword\n",
    "print(keyword.kwlist)\n",
    "print(\"파이썬 예약어 수: \",len(keyword.kwlist))"
   ]
  },
  {
   "cell_type": "markdown",
   "id": "437310c1",
   "metadata": {},
   "source": [
    "  "
   ]
  },
  {
   "cell_type": "markdown",
   "id": "880fa453",
   "metadata": {},
   "source": [
    " "
   ]
  },
  {
   "cell_type": "markdown",
   "id": "884d7e53",
   "metadata": {},
   "source": [
    " "
   ]
  },
  {
   "cell_type": "markdown",
   "id": "a629654d",
   "metadata": {},
   "source": [
    "### 내장함수명으로 변수명을 사용할 경우\n",
    "- 파이썬에 기본적으로 내장되어 제공되는 함수들을 말한다.\n",
    "- 변수명으로 함수명을 선택할 경우 오류가 발생하지는 않지만, 내장함수가 본래의 기능을 잃어버리게 되어 권장하지 않는다."
   ]
  },
  {
   "cell_type": "markdown",
   "id": "acc6af55",
   "metadata": {},
   "source": [
    "![image.png](https://raw.githubusercontent.com/l22j/image/main/%EB%AC%B8%EC%A0%9C%ED%95%B4%EA%B2%B0%EA%B3%BC%EC%95%8C%EA%B3%A0%EB%A6%AC%EC%A6%98/2/12.png)"
   ]
  },
  {
   "cell_type": "code",
   "execution_count": 1,
   "id": "3ba7901e",
   "metadata": {},
   "outputs": [],
   "source": [
    "print = 100"
   ]
  },
  {
   "cell_type": "code",
   "execution_count": 2,
   "id": "e22675d7",
   "metadata": {},
   "outputs": [
    {
     "ename": "TypeError",
     "evalue": "'int' object is not callable",
     "output_type": "error",
     "traceback": [
      "\u001b[0;31m---------------------------------------------------------------------------\u001b[0m",
      "\u001b[0;31mTypeError\u001b[0m                                 Traceback (most recent call last)",
      "Input \u001b[0;32mIn [2]\u001b[0m, in \u001b[0;36m<cell line: 1>\u001b[0;34m()\u001b[0m\n\u001b[0;32m----> 1\u001b[0m \u001b[38;5;28;43mprint\u001b[39;49m\u001b[43m(\u001b[49m\u001b[38;5;124;43m\"\u001b[39;49m\u001b[38;5;124;43mPython\u001b[39;49m\u001b[38;5;124;43m\"\u001b[39;49m\u001b[43m)\u001b[49m\n",
      "\u001b[0;31mTypeError\u001b[0m: 'int' object is not callable"
     ]
    }
   ],
   "source": [
    "print(\"Python\")"
   ]
  },
  {
   "cell_type": "markdown",
   "id": "d874170b",
   "metadata": {},
   "source": [
    "- del()을 사용하여 변수를 삭제해주면 다시 원래의 기능으로 사용할 수 있다."
   ]
  },
  {
   "cell_type": "code",
   "execution_count": 3,
   "id": "e3a9699d",
   "metadata": {},
   "outputs": [],
   "source": [
    "del print"
   ]
  },
  {
   "cell_type": "code",
   "execution_count": 4,
   "id": "9e99f184",
   "metadata": {},
   "outputs": [
    {
     "name": "stdout",
     "output_type": "stream",
     "text": [
      "Python\n"
     ]
    }
   ],
   "source": [
    "print(\"Python\")"
   ]
  },
  {
   "cell_type": "markdown",
   "id": "2ea8bc9f",
   "metadata": {},
   "source": [
    " "
   ]
  },
  {
   "cell_type": "markdown",
   "id": "62139dd0",
   "metadata": {},
   "source": [
    " "
   ]
  },
  {
   "cell_type": "markdown",
   "id": "9cf7857f",
   "metadata": {},
   "source": [
    "--- "
   ]
  },
  {
   "cell_type": "markdown",
   "id": "dec58786",
   "metadata": {},
   "source": [
    " "
   ]
  },
  {
   "cell_type": "markdown",
   "id": "76df678d",
   "metadata": {},
   "source": [
    " "
   ]
  },
  {
   "cell_type": "markdown",
   "id": "9a314320",
   "metadata": {},
   "source": [
    "## 좋은 변수 이름이란?\n",
    "\n",
    "#### 변수의 이름만 보고도 의미를 파악할 수 있어야 함\n",
    "- 문법상 문제는 없지만.. 변수의 용도를 파악할 수 없는 경우"
   ]
  },
  {
   "cell_type": "code",
   "execution_count": 102,
   "id": "76637d5d",
   "metadata": {},
   "outputs": [],
   "source": [
    "a = 100\n",
    "bbb = 200\n",
    "asdf = 300\n",
    "AA = 400"
   ]
  },
  {
   "cell_type": "markdown",
   "id": "39af6b2b",
   "metadata": {},
   "source": [
    "- 변수의 의미는 파악되지만, 너무 길어질 경우"
   ]
  },
  {
   "cell_type": "code",
   "execution_count": 105,
   "id": "d81b0ff8",
   "metadata": {},
   "outputs": [],
   "source": [
    "first_number_of_input_values = 100\n",
    "second_number_of_input_values = 200"
   ]
  },
  {
   "cell_type": "markdown",
   "id": "08d8ff57",
   "metadata": {},
   "source": [
    " "
   ]
  },
  {
   "cell_type": "markdown",
   "id": "afb444c7",
   "metadata": {},
   "source": [
    "### 좋은 변수 이름은 짧으면서도 그 의미를 파악할 수 있어야 함\n",
    "- 언더바 구분\n",
    "- 대문자 소문자 적절하게 사용\n",
    "- 의미 파악이 쉽게"
   ]
  },
  {
   "cell_type": "code",
   "execution_count": 109,
   "id": "b0296dfd",
   "metadata": {},
   "outputs": [],
   "source": [
    "first_num = 100 # First Number의 약자\n",
    "num_input = 200 # 입력된 숫자\n",
    "inputDate = 30 # 입력된 날짜"
   ]
  },
  {
   "cell_type": "markdown",
   "id": "399dc5db",
   "metadata": {},
   "source": [
    " "
   ]
  },
  {
   "cell_type": "markdown",
   "id": "479d0da2",
   "metadata": {},
   "source": [
    " "
   ]
  },
  {
   "cell_type": "markdown",
   "id": "8107db5f",
   "metadata": {},
   "source": [
    " "
   ]
  },
  {
   "cell_type": "markdown",
   "id": "593605c7",
   "metadata": {},
   "source": [
    " "
   ]
  },
  {
   "cell_type": "markdown",
   "id": "95469520",
   "metadata": {},
   "source": [
    "--- "
   ]
  },
  {
   "cell_type": "markdown",
   "id": "e134f08e",
   "metadata": {},
   "source": [
    "## 값을 입력받는 input() 함수\n",
    "### input 함수의 개념\n",
    "- 키보드로 입력받도록 도와주는 함수\n",
    "- 이전까지는 변수에 미리 값을 입력해 두었지만, input()함수를 사용하게되면 키보드를 통해 변수에 직접 값을 입력할 수 있다.\n",
    "- input() 함수를 실행하면 입력을 받기 위한 창이 나타난다.\n",
    "![image-3.png](https://raw.githubusercontent.com/l22j/image/main/%EB%AC%B8%EC%A0%9C%ED%95%B4%EA%B2%B0%EA%B3%BC%EC%95%8C%EA%B3%A0%EB%A6%AC%EC%A6%98/2/13.png)"
   ]
  },
  {
   "cell_type": "markdown",
   "id": "1badf132",
   "metadata": {},
   "source": [
    "### input() 함수의 활용"
   ]
  },
  {
   "cell_type": "code",
   "execution_count": 1,
   "id": "07817d29",
   "metadata": {},
   "outputs": [
    {
     "name": "stdout",
     "output_type": "stream",
     "text": [
      "100\n"
     ]
    },
    {
     "data": {
      "text/plain": [
       "'100'"
      ]
     },
     "execution_count": 1,
     "metadata": {},
     "output_type": "execute_result"
    }
   ],
   "source": [
    "input()"
   ]
  },
  {
   "cell_type": "markdown",
   "id": "bd0aeebe",
   "metadata": {},
   "source": [
    "<br>"
   ]
  },
  {
   "cell_type": "markdown",
   "id": "db13003d",
   "metadata": {},
   "source": [
    "\n",
    "- input() 함수로 값을 입력 받고, 변수에 저장하지 않으면 화면에 출력한 후 사라짐<br>\n",
    "- 따라서, input() 함수는 입력된 값을 변수에 저장하는 것이 일반적임 <br>\n",
    "- input() 함수를 실행 후 값을 입력하여 Enter을 눌러 변수를 저장<br><br>"
   ]
  },
  {
   "cell_type": "code",
   "execution_count": 8,
   "id": "2e223d3d",
   "metadata": {},
   "outputs": [
    {
     "name": "stdout",
     "output_type": "stream",
     "text": [
      "22\n"
     ]
    }
   ],
   "source": [
    "num1 = input()"
   ]
  },
  {
   "cell_type": "code",
   "execution_count": 7,
   "id": "c94b6bf1",
   "metadata": {},
   "outputs": [
    {
     "name": "stdout",
     "output_type": "stream",
     "text": [
      "22\n"
     ]
    }
   ],
   "source": [
    "print(num1)"
   ]
  },
  {
   "cell_type": "markdown",
   "id": "782cdc0b",
   "metadata": {},
   "source": [
    "<br>"
   ]
  },
  {
   "cell_type": "markdown",
   "id": "db515cf5",
   "metadata": {},
   "source": [
    "- 입력 시 아무 내용도 없는 창이 뜨면 답답하거나, 무엇을 입력해야하는지 알기 어려울 수 있음\n",
    "- input( ) 괄호 안에 안내하는 메시지를 넣어 사용자에게 가이드할 수 있다. <br><br>"
   ]
  },
  {
   "cell_type": "code",
   "execution_count": 12,
   "id": "102abbe4",
   "metadata": {},
   "outputs": [
    {
     "name": "stdout",
     "output_type": "stream",
     "text": [
      "숫자 입력 --->100\n"
     ]
    }
   ],
   "source": [
    "num2 = input(\"숫자 입력 --->\")"
   ]
  },
  {
   "cell_type": "code",
   "execution_count": 13,
   "id": "2202a1fe",
   "metadata": {},
   "outputs": [
    {
     "name": "stdout",
     "output_type": "stream",
     "text": [
      "100\n"
     ]
    }
   ],
   "source": [
    "print(num2)"
   ]
  },
  {
   "cell_type": "markdown",
   "id": "345f8215",
   "metadata": {},
   "source": [
    " "
   ]
  },
  {
   "cell_type": "markdown",
   "id": "369883e9",
   "metadata": {},
   "source": [
    " "
   ]
  },
  {
   "cell_type": "markdown",
   "id": "a6437852",
   "metadata": {},
   "source": [
    " "
   ]
  },
  {
   "cell_type": "markdown",
   "id": "a7fa28f0",
   "metadata": {},
   "source": [
    " "
   ]
  },
  {
   "cell_type": "markdown",
   "id": "f0bcff54",
   "metadata": {},
   "source": [
    "- input()함수를 통해 입력받은 num1과 num2를 더한 값을 result 변수에 넣은 후 출력값 확인\n",
    "- input() 함수를 통해 입력받은 값은 모두 문자열로 취급 <br><br>"
   ]
  },
  {
   "cell_type": "code",
   "execution_count": 19,
   "id": "bdca8505",
   "metadata": {},
   "outputs": [
    {
     "name": "stdout",
     "output_type": "stream",
     "text": [
      "100\n"
     ]
    }
   ],
   "source": [
    "num1 = input()"
   ]
  },
  {
   "cell_type": "code",
   "execution_count": 20,
   "id": "5ea79b58",
   "metadata": {},
   "outputs": [
    {
     "name": "stdout",
     "output_type": "stream",
     "text": [
      "200\n"
     ]
    }
   ],
   "source": [
    "num2 = input() "
   ]
  },
  {
   "cell_type": "code",
   "execution_count": 21,
   "id": "80f3b140",
   "metadata": {},
   "outputs": [],
   "source": [
    "result = num1 + num2"
   ]
  },
  {
   "cell_type": "code",
   "execution_count": 23,
   "id": "6811c312",
   "metadata": {},
   "outputs": [
    {
     "name": "stdout",
     "output_type": "stream",
     "text": [
      "100200\n"
     ]
    }
   ],
   "source": [
    "print(result)"
   ]
  },
  {
   "cell_type": "markdown",
   "id": "c5c757ff",
   "metadata": {},
   "source": [
    " "
   ]
  },
  {
   "cell_type": "markdown",
   "id": "a71938bd",
   "metadata": {},
   "source": [
    " "
   ]
  },
  {
   "cell_type": "markdown",
   "id": "aaef3726",
   "metadata": {},
   "source": [
    " "
   ]
  },
  {
   "cell_type": "markdown",
   "id": "fbd4209f",
   "metadata": {},
   "source": [
    "### 정수로 변환해주는 int() 함수\n",
    "- input(  )로 입력받은 값을 숫자로 사용하기 위해서는 입력받은 문자열을 다시 int() 함수를 이용하여 정수로 변환해야 함\n",
    "- int( 값 )을 통해 입력된 값이 무엇이든 정수로 변환해줌\n",
    "\n",
    "![image-3.png](https://raw.githubusercontent.com/l22j/image/main/%EB%AC%B8%EC%A0%9C%ED%95%B4%EA%B2%B0%EA%B3%BC%EC%95%8C%EA%B3%A0%EB%A6%AC%EC%A6%98/2/14.png)"
   ]
  },
  {
   "cell_type": "markdown",
   "id": "7decdec5",
   "metadata": {},
   "source": [
    " <br><br>"
   ]
  },
  {
   "cell_type": "markdown",
   "id": "17850743",
   "metadata": {},
   "source": [
    "- 따옴표를 사용하여 문자열이지만 int()를 사용하여 정수로 변경"
   ]
  },
  {
   "cell_type": "code",
   "execution_count": 27,
   "id": "4e8a057b",
   "metadata": {},
   "outputs": [
    {
     "data": {
      "text/plain": [
       "100"
      ]
     },
     "execution_count": 27,
     "metadata": {},
     "output_type": "execute_result"
    }
   ],
   "source": [
    "int(\"100\")"
   ]
  },
  {
   "cell_type": "markdown",
   "id": "c8f24656",
   "metadata": {},
   "source": [
    "- 입력받은 값은 실수이지만 int()를 사용하여 정수로 변경"
   ]
  },
  {
   "cell_type": "code",
   "execution_count": 26,
   "id": "3b739921",
   "metadata": {},
   "outputs": [
    {
     "data": {
      "text/plain": [
       "11"
      ]
     },
     "execution_count": 26,
     "metadata": {},
     "output_type": "execute_result"
    }
   ],
   "source": [
    "int(11.7452) "
   ]
  },
  {
   "cell_type": "code",
   "execution_count": 10,
   "id": "57876f83",
   "metadata": {},
   "outputs": [
    {
     "data": {
      "text/plain": [
       "3"
      ]
     },
     "execution_count": 10,
     "metadata": {},
     "output_type": "execute_result"
    }
   ],
   "source": [
    "int(3.14) "
   ]
  },
  {
   "cell_type": "markdown",
   "id": "857ab081",
   "metadata": {},
   "source": [
    " "
   ]
  },
  {
   "cell_type": "markdown",
   "id": "70b9c17f",
   "metadata": {},
   "source": [
    " "
   ]
  },
  {
   "cell_type": "markdown",
   "id": "966ac19f",
   "metadata": {},
   "source": [
    " "
   ]
  },
  {
   "cell_type": "markdown",
   "id": "0cf254fb",
   "metadata": {},
   "source": [
    " "
   ]
  },
  {
   "cell_type": "markdown",
   "id": "a03b91f0",
   "metadata": {},
   "source": [
    "### num1, num2를 입력받고, 이를 더해주는 코드를 작성하여 출력하기 "
   ]
  },
  {
   "cell_type": "markdown",
   "id": "469b6687",
   "metadata": {},
   "source": [
    "- input() 와 int() 를 사용하여 num1과 num2 값을 정수로 입력받는다.\n",
    "- result에 num1과 num2를 더한 값을 저장한다.\n",
    "- print()를 사용하여 result 값을 확인한다."
   ]
  },
  {
   "cell_type": "markdown",
   "id": "3aafc7dd",
   "metadata": {},
   "source": [
    "<details>\n",
    "<summary>접기/펼치기</summary>\n",
    "\n",
    "num1 = int(input(\"num1 ==>\"))<br>\n",
    "num2 = int(input(\"num2 ==>\"))<br>\n",
    "result = num1 + num2<br>\n",
    "print(result)<br>\n",
    "\n",
    "</details>"
   ]
  },
  {
   "cell_type": "code",
   "execution_count": 30,
   "id": "dc4913f1",
   "metadata": {},
   "outputs": [
    {
     "name": "stdout",
     "output_type": "stream",
     "text": [
      "num1 ==>100\n",
      "num2 ==>200\n",
      "300\n"
     ]
    }
   ],
   "source": []
  },
  {
   "cell_type": "markdown",
   "id": "876c2167",
   "metadata": {},
   "source": [
    " "
   ]
  },
  {
   "cell_type": "markdown",
   "id": "42fdf1e1",
   "metadata": {},
   "source": [
    " "
   ]
  },
  {
   "cell_type": "markdown",
   "id": "c02e108e",
   "metadata": {},
   "source": [
    " "
   ]
  },
  {
   "cell_type": "markdown",
   "id": "60aaedfa",
   "metadata": {},
   "source": [
    "### 사용자에게 이름과 전화번호를 입력받아 출력하기"
   ]
  },
  {
   "cell_type": "markdown",
   "id": "4d90cadc",
   "metadata": {},
   "source": [
    "- input() 를 사용하여 메세지로 \"이름: \", \"전화번호: \"가 출력되도록 하며, 이름과 전화번호를 각각 입력받는다.\n",
    "- print() 를 사용하여 \"제 이름은 [변수]이고, 전화번호는 [변수]입니다.\"가 출력되도록 작성한다."
   ]
  },
  {
   "cell_type": "markdown",
   "id": "8b5deec8",
   "metadata": {},
   "source": [
    "<details>\n",
    "<summary>답</summary>\n",
    "    \n",
    "user_name = input(\"이름:\") <br>\n",
    "user_phone = input(\"전화번호: \") <br>\n",
    "print(\"제 이름은 \", user_name, \"이고, 연락처는\", user_phone, \"입니다\")<br><br>\n",
    "    "
   ]
  },
  {
   "cell_type": "code",
   "execution_count": 4,
   "id": "fbb241e6",
   "metadata": {},
   "outputs": [
    {
     "name": "stdout",
     "output_type": "stream",
     "text": [
      "이름:김ㅇㅇ\n",
      "전화번호: 010-0000-0000\n",
      "제 이름은  김ㅇㅇ 이고, 연락처는 010-0000-0000 입니다\n"
     ]
    }
   ],
   "source": []
  },
  {
   "cell_type": "markdown",
   "id": "72657ef7",
   "metadata": {},
   "source": [
    " "
   ]
  },
  {
   "cell_type": "markdown",
   "id": "09d25b50",
   "metadata": {},
   "source": [
    " "
   ]
  },
  {
   "cell_type": "markdown",
   "id": "0a4a8209",
   "metadata": {},
   "source": [
    " "
   ]
  },
  {
   "attachments": {
    "image-2.png": {
     "image/png": "[encoded data removed]"
    }
   },
   "cell_type": "markdown",
   "id": "231e0f4a",
   "metadata": {},
   "source": [
    "### 택배 배송 정보 입력 시스템\n",
    "- 택배를 보낼 때, 받는 사람과 주소를 입력한 후 택배의 무게를 측정하여 입력된다. \n",
    "- 택배 무게는 그램(g)당 5원이며, 자동으로 계산된다.\n",
    "- 택배 정보를 입력받아 배송비와 함께 출력되도록 코드를 작성해보자 \n",
    "![image-2.png](attachment:image-2.png)"
   ]
  },
  {
   "cell_type": "markdown",
   "id": "9cc85f20",
   "metadata": {},
   "source": [
    " "
   ]
  },
  {
   "cell_type": "markdown",
   "id": "ed65633e",
   "metadata": {},
   "source": [
    " "
   ]
  },
  {
   "cell_type": "markdown",
   "id": "b465299d",
   "metadata": {},
   "source": [
    " "
   ]
  },
  {
   "cell_type": "markdown",
   "id": "3fad807d",
   "metadata": {},
   "source": [
    " "
   ]
  },
  {
   "attachments": {
    "image-4.png": {
     "image/png": "[encoded data removed]"
    }
   },
   "cell_type": "markdown",
   "id": "6ded6df2",
   "metadata": {},
   "source": [
    "### 숫자를 입력하는 계산기 만들기\n",
    "- 키보드로 2개의 숫자를 입력하면 두 숫자의 덧셈, 뺄셈, 곱셈, 나눗셈, 나머지, 제곱을 계산하는 계산기를 만들어 보자\n",
    "![image-4.png](attachment:image-4.png)"
   ]
  },
  {
   "cell_type": "markdown",
   "id": "503225fb",
   "metadata": {},
   "source": [
    "<details>\n",
    "<summary>접기/펼치기</summary>\n",
    "\n",
    "num1 = int(input(\"숫자1 ==>\")) <br>\n",
    "num2 = int(input(\"숫자2 ==>\"))<br>\n",
    "\n",
    "result1 = num1 + num2 <br>\n",
    "result2 = num1 - num2 <br>\n",
    "result3 = num1 * num2 <br>\n",
    "result4 = num1 / num2 <br>\n",
    "result5 = num1 % num2 <br>\n",
    "result6 = num1 ** num2 \n",
    "\n",
    "print(num1 , \"+\" , num2 , \"=\" , result1) <br>\n",
    "print(num1 , \"-\" , num2 , \"=\" , result2) <br>\n",
    "print(num1 , \"*\" , num2 , \"=\" , result3) <br>\n",
    "print(num1 , \"/\" , num2 , \"=\" , result4) <br>\n",
    "print(num1 , \"%\" , num2 , \"=\" , result5) <br>\n",
    "print(num1 , \"**\" , num2 , \"=\" , result6) <br>\n",
    "\n",
    "</details>"
   ]
  },
  {
   "cell_type": "markdown",
   "id": "be36217c",
   "metadata": {},
   "source": [
    " "
   ]
  },
  {
   "cell_type": "markdown",
   "id": "d8a8ad4b",
   "metadata": {},
   "source": [
    " "
   ]
  },
  {
   "cell_type": "markdown",
   "id": "ce7a2c73",
   "metadata": {},
   "source": [
    " "
   ]
  },
  {
   "cell_type": "markdown",
   "id": "8bbdafc6",
   "metadata": {},
   "source": [
    "  "
   ]
  }
 ],
 "metadata": {
  "kernelspec": {
   "display_name": "Python 3 (ipykernel)",
   "language": "python",
   "name": "python3"
  },
  "language_info": {
   "codemirror_mode": {
    "name": "ipython",
    "version": 3
   },
   "file_extension": ".py",
   "mimetype": "text/x-python",
   "name": "python",
   "nbconvert_exporter": "python",
   "pygments_lexer": "ipython3",
   "version": "3.8.10"
  }
 },
 "nbformat": 4,
 "nbformat_minor": 5
}
